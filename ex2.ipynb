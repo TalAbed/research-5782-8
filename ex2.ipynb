{
 "cells": [
  {
   "cell_type": "code",
   "execution_count": 4,
   "metadata": {},
   "outputs": [],
   "source": [
    "import gspread\n",
    "account = gspread.service_account(\"credentials.json\")\n",
    "# Open spreadsheet by name:\n",
    "spreadsheet = account.open(\"Test\")\n",
    "# Open sheet by name:\n",
    "sheet1 = spreadsheet.worksheet(\"Input\")"
   ]
  },
  {
   "cell_type": "code",
   "execution_count": 7,
   "metadata": {},
   "outputs": [],
   "source": [
    "def BT(playerA, playerB):\n",
    "    A = []\n",
    "    B = []\n",
    "    CP = []\n",
    "    while len(playerA)>0:\n",
    "        if playerA[0] != playerB[0]:\n",
    "            A.append(playerA[0])\n",
    "            B.append(playerB[0])\n",
    "            playerA.remove(playerB[0])\n",
    "            playerB.remove(playerA[0])\n",
    "            del playerA[0]\n",
    "            del playerB[0]\n",
    "        else:\n",
    "            CP.append(playerA[0])\n",
    "            del playerA[0]\n",
    "            del playerB[0]\n",
    "    return A, B, CP"
   ]
  },
  {
   "cell_type": "code",
   "execution_count": 12,
   "metadata": {},
   "outputs": [
    {
     "name": "stdout",
     "output_type": "stream",
     "text": [
      "([1], [2], [3, 4])\n"
     ]
    }
   ],
   "source": [
    "def readInputFromGS():\n",
    "    #print(\"Read all values:\")\n",
    "    input=sheet1.get_all_values()\n",
    "    #print(input)\n",
    "    player1=[]\n",
    "    player1Name=input[1][0]\n",
    "    i=0\n",
    "    for j in input[1]:\n",
    "        if i==0:\n",
    "            i+=1\n",
    "            continue\n",
    "        player1.append(int(j))\n",
    "        i+=1\n",
    "    player2=[]\n",
    "    player2Name=input[2][0]\n",
    "    i=0\n",
    "    for j in input[2]:\n",
    "        if i==0:\n",
    "            i+=1\n",
    "            continue\n",
    "        player2.append(int(j))\n",
    "        i+=1    \n",
    "    ans=BT(player1,player2)\n",
    "    print(ans)\n",
    "    sheet2 = spreadsheet.worksheet(\"Output\")\n",
    "    index=1\n",
    "    sheet2.update_cell(1,1, player1Name)\n",
    "    sheet2.update_cell(2,1, player2Name)\n",
    "    sheet2.update_cell(3,1, \"not dividable\")\n",
    "    for a in ans:\n",
    "\n",
    "        sheet2.update_cell(index,2, str(a))\n",
    "        index+=1\n",
    "readInputFromGS()    "
   ]
  }
 ],
 "metadata": {
  "interpreter": {
   "hash": "6bdecd6aa1c680c68931b2677bf91b5cac8845acf16b83c9971b4bfff4fcbeef"
  },
  "kernelspec": {
   "display_name": "Python 3.10.2 64-bit (system)",
   "language": "python",
   "name": "python3"
  },
  "language_info": {
   "codemirror_mode": {
    "name": "ipython",
    "version": 3
   },
   "file_extension": ".py",
   "mimetype": "text/x-python",
   "name": "python",
   "nbconvert_exporter": "python",
   "pygments_lexer": "ipython3",
   "version": "3.10.2"
  },
  "orig_nbformat": 4
 },
 "nbformat": 4,
 "nbformat_minor": 2
}
